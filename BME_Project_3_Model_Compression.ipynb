{
 "cells": [
  {
   "cell_type": "code",
   "execution_count": null,
   "metadata": {
    "colab": {
     "base_uri": "https://localhost:8080/",
     "height": 124
    },
    "colab_type": "code",
    "id": "4YdIxPa3_INq",
    "outputId": "19979dbf-d5e2-452f-b669-0af1278cec0c"
   },
   "outputs": [],
   "source": [
    "# execute once to install the correct packages and their versions\n",
    "# ! pip uninstall -y tensorflow\n",
    "# ! pip uninstall -y tf-nightly\n",
    "# ! pip install -q -U tensorflow-gpu=1.14.0\n",
    "\n",
    "# ! pip install -q tensorflow-model-optimization\n",
    "\n",
    "# ! pip uninstall -y keras==2.2.4\n",
    "# ! pip install -q keras==2.1.6"
   ]
  },
  {
   "cell_type": "code",
   "execution_count": 2,
   "metadata": {
    "colab": {
     "base_uri": "https://localhost:8080/",
     "height": 70
    },
    "colab_type": "code",
    "id": "P69mYiAb_Qan",
    "outputId": "47fc6341-cf3e-4f4c-d15b-481594ad4477"
   },
   "outputs": [
    {
     "name": "stdout",
     "output_type": "stream",
     "text": [
      "2.2.4-tf\n",
      "1.14.0\n"
     ]
    }
   ],
   "source": [
    "# packages preloading\n",
    "## packages for dataset and image preprocessing\n",
    "from tensorflow.keras.datasets import cifar100\n",
    "from tensorflow.keras.preprocessing.image import ImageDataGenerator\n",
    "from sklearn.model_selection import train_test_split\n",
    "from sklearn.cluster import KMeans\n",
    "\n",
    "\n",
    "## packages for modeling\n",
    "import tensorflow as tf\n",
    "from tensorflow import keras\n",
    "from tensorflow.keras import layers\n",
    "from keras import backend as K\n",
    "from keras import regularizers\n",
    "from keras.objectives import categorical_crossentropy\n",
    "import math\n",
    "\n",
    "## packages for pruning\n",
    "import tensorflow_model_optimization as tfmot\n",
    "from tensorflow_model_optimization.sparsity import keras as sparsity\n",
    "\n",
    "## visualization & file saving\n",
    "from matplotlib import pyplot as plt\n",
    "import pickle \n",
    "import numpy as np\n",
    "import os, sys\n",
    "\n",
    "\n",
    "## version checking\n",
    "print (keras.__version__)\n",
    "print (tf.__version__)"
   ]
  },
  {
   "cell_type": "code",
   "execution_count": 4,
   "metadata": {
    "colab": {
     "base_uri": "https://localhost:8080/",
     "height": 239
    },
    "colab_type": "code",
    "id": "nqGo9McEVKTz",
    "outputId": "7b6231fe-c63b-4494-e692-7aaf2b8f4e68"
   },
   "outputs": [],
   "source": [
    "# Identify GPU \n",
    "tf.config.experimental.list_physical_devices('GPU') \n",
    "# Assign GPU\n",
    "os.environ['CUDA_VISIBLE_DEVICES'] ='0'\n",
    "#CONFIG MEMORY USAGE\n",
    "config = tf.ConfigProto() #device_count = {'GPU':1} \n",
    "config.gpu_options.allow_growth = True\n",
    "session = tf.Session(config=config)\n",
    "K.set_session(session)"
   ]
  },
  {
   "cell_type": "markdown",
   "metadata": {
    "colab_type": "text",
    "id": "zh7YhVcAZQF9"
   },
   "source": [
    "## Loading Dataset"
   ]
  },
  {
   "cell_type": "code",
   "execution_count": 5,
   "metadata": {
    "colab": {},
    "colab_type": "code",
    "id": "U8Rc9C2-saqX"
   },
   "outputs": [],
   "source": [
    "# function for data augmentation\n",
    "def getDataGenerator(train_phase):\n",
    "    if train_phase == True:\n",
    "        datagen = ImageDataGenerator(\n",
    "        rotation_range=0.,\n",
    "        width_shift_range=0.05,\n",
    "        height_shift_range=0.05,\n",
    "        shear_range=0.05,\n",
    "        zoom_range=0.05,\n",
    "        channel_shift_range=0.,\n",
    "        fill_mode='nearest',\n",
    "        horizontal_flip=True,\n",
    "        vertical_flip=False,\n",
    "        rescale=None)\n",
    "    else: \n",
    "        datagen = ImageDataGenerator(\n",
    "        rescale=None\n",
    "        )\n",
    "\n",
    "    return datagen\n"
   ]
  },
  {
   "cell_type": "markdown",
   "metadata": {
    "colab_type": "text",
    "id": "-aKVl68F9t8H"
   },
   "source": [
    "### - Cifar100"
   ]
  },
  {
   "cell_type": "code",
   "execution_count": 6,
   "metadata": {
    "colab": {},
    "colab_type": "code",
    "id": "1JHYenFH9_sU"
   },
   "outputs": [],
   "source": [
    "# define DenseNet parms Cifar10\n",
    "nb_classes = 100\n",
    "img_dim = (32,32,3)\n",
    "\n",
    "batch_size = 64\n",
    "nb_epoch = 40"
   ]
  },
  {
   "cell_type": "code",
   "execution_count": 7,
   "metadata": {
    "colab": {},
    "colab_type": "code",
    "id": "lVSlrB859w_a"
   },
   "outputs": [],
   "source": [
    "# datasets with data augmentation\n",
    "(x_train,y_train),(x_test,y_test) = cifar100.load_data()\n",
    "x_train = x_train.astype('float32')\n",
    "x_test = x_test.astype('float32')\n",
    "x_train /= 255\n",
    "x_test /= 255\n",
    "y_train = keras.utils.to_categorical(y_train, nb_classes)\n",
    "y_test= keras.utils.to_categorical(y_test, nb_classes)\n",
    "\n",
    "# hold out 5000 samples from training for validation\n",
    "x_tr,x_val,y_tr,y_val = train_test_split(x_train,y_train,test_size=0.1, random_state=42)\n",
    "\n",
    "train_datagen = getDataGenerator(train_phase=True)\n",
    "train_datagen = train_datagen.flow(x_train,y_train,batch_size = batch_size)\n",
    "\n",
    "validation_datagen = getDataGenerator(train_phase=False)\n",
    "validation_datagen = validation_datagen.flow(x_val,y_val,batch_size = batch_size)"
   ]
  },
  {
   "cell_type": "code",
   "execution_count": 8,
   "metadata": {
    "colab": {
     "base_uri": "https://localhost:8080/",
     "height": 88
    },
    "colab_type": "code",
    "id": "jEyOf-gt99lN",
    "outputId": "e5642b8b-cab3-48da-faa6-57c6b55087f6"
   },
   "outputs": [
    {
     "name": "stdout",
     "output_type": "stream",
     "text": [
      "(50000, 32, 32, 3) (50000, 100)\n",
      "(45000, 32, 32, 3) (45000, 100)\n",
      "(5000, 32, 32, 3) (5000, 100)\n",
      "(10000, 32, 32, 3) (10000, 100)\n"
     ]
    }
   ],
   "source": [
    "print(x_train.shape,y_train.shape)\n",
    "print(x_tr.shape,y_tr.shape)\n",
    "print(x_val.shape,y_val.shape)\n",
    "print(x_test.shape,y_test.shape)\n"
   ]
  },
  {
   "cell_type": "markdown",
   "metadata": {
    "colab_type": "text",
    "id": "aFmcxrXacsRC"
   },
   "source": [
    "## Modeling"
   ]
  },
  {
   "cell_type": "markdown",
   "metadata": {
    "colab_type": "text",
    "id": "dwlKUw-q1Plb"
   },
   "source": [
    "### Model Functions"
   ]
  },
  {
   "cell_type": "code",
   "execution_count": 9,
   "metadata": {
    "colab": {},
    "colab_type": "code",
    "id": "X4AIWqbP4lI2"
   },
   "outputs": [],
   "source": [
    "# define chuncks of model \n",
    "def conv_layer(inputs,filters,kernel_size,strides,dropout_rate=None,weight_decay=1E-4):\n",
    "    \"\"\"single convolution 2D with pre-activation\"\"\"\n",
    "  \n",
    "    ## pre-activation BN and ReLU\n",
    "    bn_axis = 1 if K.image_data_format() == \"th\" else -1\n",
    "  \n",
    "    x = layers.BatchNormalization(axis = bn_axis, epsilon=1.1e-5)(inputs)\n",
    "    x = layers.Activation('relu')(x)\n",
    "  \n",
    "    ## conv2D layer with padding = 'same'\n",
    "    outputs = layers.Conv2D(filters = filters, kernel_size = kernel_size,strides = strides, \n",
    "                            kernel_initializer=\"he_uniform\", padding = 'same', use_bias=False,\n",
    "                            kernel_regularizer = regularizers.l2(weight_decay))(x)\n",
    "  \n",
    "    ## dropout layer after convolutional layers except the first conv layer (for dataset without data augmentation)\n",
    "    if dropout_rate is not None: \n",
    "        outputs = layers.Dropout(dropout_rate)(outputs)\n",
    "  \n",
    "    return outputs\n",
    "\n",
    "def bottleneck_layer(inputs,filters):\n",
    "    \"\"\"bottleneck layer with pre-activation\"\"\"\n",
    "    ## pre-activation BN and ReLU\n",
    "    bn_axis = 1 if K.image_data_format() == \"th\" else -1\n",
    "  \n",
    "    x = layers.BatchNormalization(axis = bn_axis, epsilon=1.1e-5)(inputs)\n",
    "    x = layers.Activation('relu')(x)\n",
    "  \n",
    "    ## conv2D layer with kernel size 1 x 1\n",
    "    ### number of feature maps of bottleneck layer = 4k \n",
    "    nb_filter = 4 * filters\n",
    "    outputs = layers.Conv2D(filters = nb_filter, kernel_size = (1,1),strides = (1,1), padding = 'same')(x)\n",
    "  \n",
    "    return outputs  \n",
    "\n",
    "def conv_block(inputs,filters):\n",
    "    \"\"\"conv block consisting of a bottleneck layer and a convolution layer with kernel size 3x3\"\"\"\n",
    "  \n",
    "    kernel_size = (3,3)\n",
    "    strides = (1,1)\n",
    "  \n",
    "    x = bottleneck_layer(inputs,filters)\n",
    "    outputs = conv_layer(x,filters,kernel_size,strides)\n",
    "    \n",
    "  \n",
    "    return outputs\n",
    "\n",
    "def dense_block(inputs,nb_filter,growth_rate, nb_conv_block):\n",
    "    \"\"\"a convolutional block with multiple conv blocks and concatenation for outputs of each conv block \n",
    "       key innovation for DenseNet\n",
    "    \"\"\"\n",
    "    concat_axis = 1 if K.image_data_format() == \"th\" else -1\n",
    "\n",
    "    # x_list is created for storage purpose\n",
    "    x_list = [inputs]\n",
    "  \n",
    "    for i in range(nb_conv_block):\n",
    "        outputs = conv_block(inputs, growth_rate)\n",
    "        x_list.append(outputs)\n",
    "        inputs = layers.concatenate([inputs,outputs],concat_axis)\n",
    "    \n",
    "        nb_filter +=growth_rate\n",
    "\n",
    "    return inputs,nb_filter,x_list\n",
    "\n",
    "def transition_block(inputs,nb_filter,theta,dropout_rate):\n",
    "    \"\"\"a block that consists of one bottleneck conv layer and a pooling layer\n",
    "       to furhter improve model compactness\n",
    "    \"\"\"\n",
    "    \n",
    "    #compression parameter to reduce number of channels/filters\n",
    "    ## theta = 1 for no compression\n",
    "    ## theta = 0.5 for DenseNet-BC\n",
    "  \n",
    "    x = conv_layer(inputs,math.floor(nb_filter * theta),(1,1),(1,1),dropout_rate)\n",
    "    x = layers.AveragePooling2D((2, 2), strides=(2, 2))(x)\n",
    "  \n",
    "    return x, math.floor(nb_filter * theta)\n",
    "\n",
    "# define the model \n",
    "def DenseNet(inputs,init_nb_filters,growth_rate,nb_layers,theta,dropout_rate,weight_decay):\n",
    "    \"\"\"the actual DenseNet model\"\"\"\n",
    "    ## The initial convolution layer comprises 2k convolutions of size 3 x 3 with stride 1\n",
    "    x = conv_layer(inputs,init_nb_filters,(3,3),(1,1))\n",
    "\n",
    "    ## Dense Block (1) + Transition Block (1)\n",
    "    x,nb_filters,x_list_ = dense_block(x,init_nb_filters,growth_rate,nb_layers)\n",
    "    x,nb_filters = transition_block(x, nb_filters,theta, dropout_rate)\n",
    "\n",
    "    ## Dense Block (2) + Transition Block (2)\n",
    "    x,nb_filters,x_list_ = dense_block(x,nb_filters,growth_rate,nb_layers)\n",
    "    x,nb_filters = transition_block(x, nb_filters,theta, dropout_rate)\n",
    "\n",
    "    ## Dense Block (3)\n",
    "    x,nb_filters,x_list_ = dense_block(x,nb_filters,growth_rate,nb_layers)\n",
    "\n",
    "    ## Global Average Pooling \n",
    "    x = layers.GlobalAveragePooling2D()(x)\n",
    "\n",
    "    ## FC classification layer\n",
    "    x = layers.Dense(nb_classes, activation='softmax', kernel_regularizer=regularizers.l2(weight_decay), bias_regularizer=regularizers.l2(weight_decay))(x)\n",
    "\n",
    "    return x\n"
   ]
  },
  {
   "cell_type": "markdown",
   "metadata": {
    "colab_type": "text",
    "id": "UbLrVU3o1eLt"
   },
   "source": [
    "### Model Hyperparameters"
   ]
  },
  {
   "cell_type": "code",
   "execution_count": 10,
   "metadata": {
    "colab": {},
    "colab_type": "code",
    "id": "CZnC6DrEPMEV"
   },
   "outputs": [],
   "source": [
    "# hyperparameters\n",
    "## growth rate =k \n",
    "growth_rate = 12\n",
    "\n",
    "\n",
    "## initial number of output channels\n",
    "### DenseNet-B: 16\n",
    "### DenseNet-BC: 2 * growth_rate\n",
    "init_nb_filters = 24\n",
    "\n",
    "\n",
    "## same number of layers in each dense block\n",
    "depth = 100\n",
    "nb_layers = 16\n",
    "\n",
    "\n",
    "## dropout rate \n",
    "### DenseNet with data augmentation\n",
    "dropout_rate = None\n",
    "### DenseNet without data augmentation\n",
    "### dropout_rate = 0.2\n",
    "\n",
    "## weight decay \n",
    "weight_decay=1E-4\n",
    "\n",
    "## theta \n",
    "theta = 0.5"
   ]
  },
  {
   "cell_type": "markdown",
   "metadata": {
    "colab_type": "text",
    "id": "-IGq8hMT1j3i"
   },
   "source": [
    "## Model Setup"
   ]
  },
  {
   "cell_type": "markdown",
   "metadata": {
    "colab_type": "text",
    "id": "LDZAZYZraS9h"
   },
   "source": [
    "### DenseNet-BC-100-12 with data augmentation\n",
    "- dropout_rate = None\n"
   ]
  },
  {
   "cell_type": "code",
   "execution_count": 11,
   "metadata": {
    "colab": {
     "base_uri": "https://localhost:8080/",
     "height": 90
    },
    "colab_type": "code",
    "id": "Hz5GEpjhaVLX",
    "outputId": "bfd893d2-d620-424f-fe51-cfd44b544818"
   },
   "outputs": [
    {
     "name": "stdout",
     "output_type": "stream",
     "text": [
      "WARNING:tensorflow:From /home/jupyter/.local/lib/python3.5/site-packages/tensorflow/python/ops/init_ops.py:1251: calling VarianceScaling.__init__ (from tensorflow.python.ops.init_ops) with dtype is deprecated and will be removed in a future version.\n",
      "Instructions for updating:\n",
      "Call initializer instance with the dtype argument instead of passing it to the constructor\n"
     ]
    }
   ],
   "source": [
    "# DenseNet-BC setup\n",
    "\n",
    "## input images 32 x 32\n",
    "inputs = keras.Input(img_dim)\n",
    "\n",
    "## call DenseNet-BC-100-12 with data augmentation\n",
    "outputs = DenseNet(inputs,init_nb_filters,growth_rate,nb_layers,theta,dropout_rate,weight_decay)\n",
    "\n",
    "## assign the actual model\n",
    "model = keras.Model(inputs,outputs)"
   ]
  },
  {
   "cell_type": "code",
   "execution_count": null,
   "metadata": {},
   "outputs": [],
   "source": [
    "model.summary()"
   ]
  },
  {
   "cell_type": "markdown",
   "metadata": {
    "colab_type": "text",
    "id": "kYYFMK4-1nCh"
   },
   "source": [
    "## Model Training"
   ]
  },
  {
   "cell_type": "code",
   "execution_count": 12,
   "metadata": {
    "colab": {},
    "colab_type": "code",
    "id": "JU8iR5KEzxYd"
   },
   "outputs": [],
   "source": [
    "# training parameters\n",
    "## define learning rate decay rule\n",
    "def scheduler(epoch):\n",
    "    \"\"\"learning rate decay for 40 epoch\n",
    "    - 50% of epoch: 0.1 \n",
    "    50% -75% of epoch: 0.01 \n",
    "    70% - of epoch: 0.001\n",
    "    \"\"\"\n",
    "    if epoch < 20:\n",
    "        return 0.1\n",
    "    if epoch < 30:\n",
    "        return 0.01\n",
    "    return 0.001"
   ]
  },
  {
   "cell_type": "code",
   "execution_count": null,
   "metadata": {
    "colab": {
     "base_uri": "https://localhost:8080/",
     "height": 1000
    },
    "colab_type": "code",
    "id": "SricOUEKsxGH",
    "outputId": "7095aed2-1816-4b3f-9750-1a8e5a009933"
   },
   "outputs": [],
   "source": [
    "# actual training \n",
    "## define optimizer:SGD \n",
    "optimizer = keras.optimizers.SGD(lr=.1, momentum=0.9, nesterov=True)\n",
    "model.compile(loss='categorical_crossentropy',optimizer=optimizer,metrics=['accuracy'])"
   ]
  },
  {
   "cell_type": "code",
   "execution_count": null,
   "metadata": {},
   "outputs": [],
   "source": [
    "## define callbacks\n",
    "model_checkpoint = keras.callbacks.ModelCheckpoint('densenet_100_12.h5', monitor=\"val_acc\", save_best_only=True,\n",
    "                                  save_weights_only=True, verbose=1)\n",
    "\n",
    "## set callback\n",
    "change_lr = keras.callbacks.LearningRateScheduler(scheduler)\n",
    "callbacks = [change_lr,model_checkpoint]\n",
    "\n",
    "## feed all settings into the model to train\n",
    "history = model.fit_generator(generator=train_datagen,\n",
    "                steps_per_epoch= x_tr.shape[0] // batch_size,\n",
    "                epochs=nb_epoch,b\n",
    "                callbacks=callbacks,\n",
    "                validation_data=validation_datagen,\n",
    "                validation_steps = x_val.shape[0] // batch_size,\n",
    "                verbose=1)"
   ]
  },
  {
   "cell_type": "code",
   "execution_count": null,
   "metadata": {
    "colab": {},
    "colab_type": "code",
    "id": "fAO5zVud7DGs"
   },
   "outputs": [],
   "source": [
    "model.load_weights('./densenet_100_aug_40.h5')"
   ]
  },
  {
   "cell_type": "markdown",
   "metadata": {},
   "source": [
    "# Model Compression"
   ]
  },
  {
   "cell_type": "markdown",
   "metadata": {},
   "source": [
    "## Pruning"
   ]
  },
  {
   "cell_type": "markdown",
   "metadata": {
    "colab_type": "text",
    "id": "XOAB8K0MWhhq"
   },
   "source": [
    "### Pruning Functions"
   ]
  },
  {
   "cell_type": "code",
   "execution_count": 15,
   "metadata": {
    "colab": {
     "base_uri": "https://localhost:8080/",
     "height": 204
    },
    "colab_type": "code",
    "id": "c1YK9O69WgzP",
    "outputId": "7a2db3d9-00c7-456c-a925-e0da834078f1"
   },
   "outputs": [],
   "source": [
    "def prune_after_training(model,percentile):\n",
    "\n",
    "    num_layers = len(model.layers)\n",
    "\n",
    "    for layer_idx in range(num_layers):\n",
    "        if len(model.layers[layer_idx].weights) !=0:\n",
    "            for weight_idx in range(len(model.layers[layer_idx].weights)):\n",
    "                if (len(model.layers[layer_idx].weights[weight_idx].shape) == 4) or (len(model.layers[layer_idx].weights[weight_idx].shape)==2):\n",
    "                    weight = model.layers[layer_idx].get_weights()[weight_idx]\n",
    "                    weight_abs = np.absolute(weight)\n",
    "                    value = np.percentile(weight_abs,percentile)\n",
    "                    # pruning\n",
    "                    ## create mask with percentage q of zeros\n",
    "                    mask = np.ones((weight.shape))\n",
    "                    mask[weight_abs <= value] = 0         \n",
    "                    ## get pruned weight matrix and pass it to weight\n",
    "                    pruned_weight = np.multiply(mask, weight)\n",
    "                    K.set_value(model.layers[layer_idx].weights[weight_idx],pruned_weight)\n",
    "    return model\n",
    "\n",
    "def get_total_sparsity(model):\n",
    "    \n",
    "    total = 0\n",
    "    zeros = 0\n",
    "    for i, w in enumerate(model.get_weights()):\n",
    "#         print(\n",
    "#             \"{} -- Total:{}, Zeros: {:.2f}%\".format(\n",
    "#                 model.weights[i].name, w.size, np.sum(w == 0) / w.size * 100\n",
    "#             )\n",
    "#         )\n",
    "        total +=w.size\n",
    "        zeros +=np.sum(w == 0)\n",
    "    total_sparsity = zeros/total * 100\n",
    "    return total_sparsity"
   ]
  },
  {
   "cell_type": "markdown",
   "metadata": {},
   "source": [
    "### Direct Pruning"
   ]
  },
  {
   "cell_type": "code",
   "execution_count": null,
   "metadata": {},
   "outputs": [],
   "source": [
    "testing_acc_list = []\n",
    "sparsity_list = []\n",
    "\n",
    "for value in range(0,100,5):\n",
    "    model.load_weights('./densenet_100_aug_40.h5')\n",
    "    model_pruned_after_training = prune_after_training(model,value)\n",
    "    testing_acc = model_pruned_after_training.evaluate(x_test,y_test,batch_size)\n",
    "    testing_acc_list.append(testing_acc)\n",
    "    \n",
    "    sparsity = get_total_sparsity(model_pruned_after_training)\n",
    "    sparsity_list.append(sparsity)\n",
    "    \n",
    "    model_pruned_after_training.save_weights('./direct_pruned{}.h5'.format(value))"
   ]
  },
  {
   "cell_type": "code",
   "execution_count": null,
   "metadata": {},
   "outputs": [],
   "source": [
    "testing_accuracy_list = [testing_acc_list[i][1] for i in range(len(testing_acc_list))]"
   ]
  },
  {
   "cell_type": "code",
   "execution_count": null,
   "metadata": {},
   "outputs": [],
   "source": [
    "sparsity_list"
   ]
  },
  {
   "cell_type": "code",
   "execution_count": null,
   "metadata": {
    "colab": {},
    "colab_type": "code",
    "id": "12h98HM0Wg6-"
   },
   "outputs": [],
   "source": [
    "plt.axhline(y=0.7122, color='black', linestyle='--',label = 'no pruning')\n",
    "plt.scatter(sparsity_list,testing_accuracy_list,s = 10, label = 'pruned after training')\n",
    "plt.xlim([0,90])\n",
    "plt.ylim([0,0.9])\n",
    "plt.legend()\n",
    "plt.xlabel('Total Parameters Pruned %')\n",
    "plt.ylabel('Testing Accuracy')\n",
    "plt.title('Direct Pruning')\n",
    "plt.savefig('Direct Pruning corrected')"
   ]
  },
  {
   "cell_type": "markdown",
   "metadata": {
    "colab_type": "text",
    "id": "N_YVq67Q--T1"
   },
   "source": [
    "### Iterative Pruning"
   ]
  },
  {
   "cell_type": "code",
   "execution_count": 13,
   "metadata": {},
   "outputs": [],
   "source": [
    "# sparsity level\n",
    "## adjust it to run the next chunk\n",
    "## (45,90)\n",
    "value = 60"
   ]
  },
  {
   "cell_type": "code",
   "execution_count": 13,
   "metadata": {},
   "outputs": [
    {
     "name": "stdout",
     "output_type": "stream",
     "text": [
      "WARNING:tensorflow:From /home/jupyter/.local/lib/python3.5/site-packages/tensorflow_model_optimization/python/core/sparsity/keras/pruning_schedule.py:240: div (from tensorflow.python.ops.math_ops) is deprecated and will be removed in a future version.\n",
      "Instructions for updating:\n",
      "Deprecated in favor of operator or tf.math.divide.\n"
     ]
    }
   ],
   "source": [
    "# DenseNet-BC setup\n",
    "## input images 32 x 32\n",
    "inputs = keras.Input(img_dim)\n",
    "## call DenseNet-BC-100-12 with data augmentation\n",
    "outputs = DenseNet(inputs,init_nb_filters,growth_rate,nb_layers,theta,dropout_rate,weight_decay)\n",
    "## assign the actual model\n",
    "model = keras.Model(inputs,outputs)\n",
    "\n",
    "## define optimizer:SGD \n",
    "optimizer = keras.optimizers.SGD(lr=.1, momentum=0.9, nesterov=True)\n",
    "model.compile(loss='categorical_crossentropy',optimizer=optimizer,metrics=['accuracy'])\n",
    "\n",
    "model.load_weights('./densenet_100_aug_40.h5')\n",
    "nb_epoch = 40\n",
    "end_step = np.ceil(1.0 * 45000 / batch_size).astype(np.int32) * nb_epoch\n",
    "pruning_schedule = tfmot.sparsity.keras.PolynomialDecay(\n",
    "                  initial_sparsity=0.0, final_sparsity= value/100,\n",
    "                  begin_step=2000, end_step=end_step,frequency=100)\n",
    "\n",
    "model_pruned = tfmot.sparsity.keras.prune_low_magnitude(model, pruning_schedule=pruning_schedule)\n",
    "\n",
    "optimizer = keras.optimizers.SGD(lr=.001, momentum=0.9, nesterov=True)\n",
    "model_pruned.compile(\n",
    "loss=tf.keras.losses.categorical_crossentropy,\n",
    "optimizer=optimizer,\n",
    "metrics=['accuracy'])\n",
    "# actual training \n",
    "# Add a pruning step callback to peg the pruning step to the optimizer's\n",
    "# step. Also add a callback to add pruning summaries to tensorboard\n",
    "\n",
    "#     model_checkpoint = keras.callbacks.ModelCheckpoint('./iter_pruning_{}.h5'.format(value), monitor=\"val_acc\", save_best_only=False,\n",
    "#                                   save_weights_only=True, verbose=1)\n",
    "callbacks = [sparsity.UpdatePruningStep()]\n",
    "## feed all settings into the model to train\n",
    "history = model_pruned.fit_generator(generator=train_datagen,\n",
    "                steps_per_epoch= x_tr.shape[0] // batch_size,\n",
    "                epochs=nb_epoch,\n",
    "                callbacks=callbacks,\n",
    "                validation_data=validation_datagen,\n",
    "                validation_steps = x_val.shape[0] // batch_size,\n",
    "                verbose=1)    \n",
    "\n",
    "model_pruned.save_weights('./iter_pruned_{}.h5'.format(value))"
   ]
  },
  {
   "cell_type": "code",
   "execution_count": 16,
   "metadata": {},
   "outputs": [
    {
     "name": "stdout",
     "output_type": "stream",
     "text": [
      "10000/10000 [==============================] - 9s 850us/sample - loss: 1.4152 - acc: 0.7122\n"
     ]
    }
   ],
   "source": [
    "#model_pruned.load_weights('./iter_pruned_{}.h5'.format(value))\n",
    "# accuracy on test set using DenseNet-BC-100-12 pruned\n",
    "acc_iter = model_pruned.evaluate(x_test,y_test,batch_size)\n",
    "\n",
    "# get rid of extra parameters during pruning\n",
    "final_model = sparsity.strip_pruning(model_pruned)\n",
    "sparsity = get_total_sparsity(final_model)\n"
   ]
  },
  {
   "cell_type": "code",
   "execution_count": 17,
   "metadata": {},
   "outputs": [
    {
     "name": "stdout",
     "output_type": "stream",
     "text": [
      "[1.4151958063125611, 0.7122] 0.0\n"
     ]
    }
   ],
   "source": [
    "print(acc_iter,sparsity)"
   ]
  },
  {
   "cell_type": "code",
   "execution_count": 20,
   "metadata": {},
   "outputs": [
    {
     "data": {
      "image/png": "[encoded data removed]",
      "text/plain": [
       "<Figure size 432x288 with 1 Axes>"
      ]
     },
     "metadata": {
      "needs_background": "light"
     },
     "output_type": "display_data"
    }
   ],
   "source": [
    "acc_iter_list_iter = [0.7085,0.7057,0.6995,0.6917,0.6810,0.6675,0.6463,0.5813]\n",
    "sparsity_list_iter = [47,51.73,61.13,65.84,70.54,75.27,79.95,84.65]\n",
    "\n",
    "testing_accuracy_list = [0.7122,0.7132,0.7123,0.7136,0.7147,0.7087,0.698,0.685,0.6603,0.5976,0.4962,0.4495,0.2801,0.108,0.05,0.0173,0.0105,0.0099,0.01,0.01]\n",
    "sparsity_list = [0.01,4.71,9.41,14.11,18.81,23.51,28.22,32.92,37.62,42.33,47.03,51.73,56.43,61.13,65.80,70.54,75.24,79.94,84.64,89.35]\n",
    "\n",
    "plt.axhline(y=0.7122, color='black', linestyle='--',label = 'no pruning')\n",
    "plt.scatter(sparsity_list,testing_accuracy_list,s = 10, label = 'pruned after pretraining')\n",
    "plt.scatter(sparsity_list_iter,acc_iter_list_iter,s = 10, label = 'iterative pruning after pretraining')\n",
    "plt.xlim([0,90])\n",
    "plt.ylim([0,0.9])\n",
    "plt.legend()\n",
    "plt.xlabel('Total Parameters Pruned %')\n",
    "plt.ylabel('Testing Accuracy')\n",
    "plt.title('Pruning')\n",
    "plt.savefig('Iterative Pruning')"
   ]
  },
  {
   "cell_type": "markdown",
   "metadata": {},
   "source": [
    "## Quantization"
   ]
  },
  {
   "cell_type": "code",
   "execution_count": null,
   "metadata": {},
   "outputs": [],
   "source": [
    "def quantization(model,bits = 8):\n",
    "    cluster_centers = []\n",
    "    num_layers = len(model.layers)\n",
    "\n",
    "    for layer_idx in range(num_layers):\n",
    "        if len(model.layers[layer_idx].weights) !=0:\n",
    "            for weight_idx in range(len(model.layers[layer_idx].weights)):\n",
    "                # find conv and fc layer\n",
    "                if (len(model.layers[layer_idx].weights[weight_idx].shape) == 4) or (len(model.layers[layer_idx].weights[weight_idx].shape) == 2):\n",
    "                    #extract weight matrix\n",
    "                    weight = model.layers[layer_idx].get_weights()[weight_idx]\n",
    "                    #create mask matrix for weight matrix\n",
    "                    mask = np.ones((weight.shape))\n",
    "                    mask[weight ==0] = 0 \n",
    "                    masked_weight = (weight * mask).flatten().reshape((-1,1)) #2D\n",
    "                    \n",
    "                    # shrink the weight \n",
    "                    weight_shrinked = masked_weight[masked_weight!=0].reshape((-1,1))\n",
    "                    \n",
    "                    # Apply K-means algorithm to find centroids\n",
    "                    kmeans = KMeans(2**bits).fit(weight_shrinked)\n",
    "                    cluster_centers_layer = kmeans.cluster_centers_.reshape(kmeans.cluster_centers_.shape[0])            \n",
    "                    predicted_idx = kmeans.predict(masked_weight)\n",
    "\n",
    "                    #assign centered weight value using index still 2D array\n",
    "                    masked_weight = cluster_centers_layer[predicted_idx]\n",
    "\n",
    "                    quantized_mask_weight = masked_weight.flatten().reshape(weight.shape) * mask\n",
    "                    cluster_centers.append(cluster_centers_layer)\n",
    "                    K.set_value(model.layers[layer_idx].weights[weight_idx],quantized_mask_weight)\n",
    "    \n",
    "    return model,cluster_centers"
   ]
  },
  {
   "cell_type": "code",
   "execution_count": null,
   "metadata": {},
   "outputs": [],
   "source": [
    "# make sure change the value to run the next chunk of code\n",
    "value = 80"
   ]
  },
  {
   "cell_type": "code",
   "execution_count": null,
   "metadata": {},
   "outputs": [],
   "source": [
    "## input images 32 x 32\n",
    "inputs = keras.Input(img_dim)\n",
    "## call DenseNet-BC-100-12 with data augmentation\n",
    "outputs = DenseNet(inputs,init_nb_filters,growth_rate,nb_layers,theta,dropout_rate,weight_decay)\n",
    "## assign the actual model\n",
    "model = keras.Model(inputs,outputs)\n",
    "\n",
    "model.load_weights('./densenet_100_aug_40.h5')\n",
    "nb_epoch = 40\n",
    "end_step = np.ceil(1.0 * 45000 / batch_size).astype(np.int32) * nb_epoch\n",
    "pruning_schedule = tfmot.sparsity.keras.PolynomialDecay(\n",
    "                  initial_sparsity=0.0, final_sparsity= value/100,\n",
    "                  begin_step=2000, end_step=end_step,frequency=100)\n",
    "\n",
    "model_pruned = tfmot.sparsity.keras.prune_low_magnitude(model, pruning_schedule=pruning_schedule)\n",
    "\n",
    "optimizer = keras.optimizers.SGD(lr=.001, momentum=0.9, nesterov=True)\n",
    "model_pruned.compile(\n",
    "loss=tf.keras.losses.categorical_crossentropy,\n",
    "optimizer=optimizer,\n",
    "metrics=['accuracy'])\n",
    "   \n",
    "model_pruned.load_weights('./iter_pruned_{}.h5'.format(value))\n",
    "\n",
    "# get rid of extra parameters during pruning\n",
    "final_model = sparsity.strip_pruning(model_pruned)"
   ]
  },
  {
   "cell_type": "code",
   "execution_count": null,
   "metadata": {},
   "outputs": [],
   "source": [
    "quantized_model,centers = quantization(final_model,bits = 6)\n",
    "# actual training \n",
    "## define optimizer:SGD \n",
    "optimizer = keras.optimizers.SGD(lr=.1, momentum=0.9, nesterov=True)\n",
    "quantized_model.compile(loss='categorical_crossentropy',optimizer=optimizer,metrics=['accuracy'])\n",
    "acc_quan = quantized_model.evaluate(x_test,y_test,batch_size)\n",
    "sparsity = get_total_sparsity(quantized_model)\n",
    "print(acc_quan,sparsity)"
   ]
  },
  {
   "cell_type": "markdown",
   "metadata": {},
   "source": [
    "## Huffman Coding"
   ]
  },
  {
   "cell_type": "code",
   "execution_count": null,
   "metadata": {},
   "outputs": [],
   "source": [
    "def huffman_coding_per_layer(weight, centers):\n",
    "    \"\"\"\n",
    "    Huffman coding for each layer\n",
    "    :param weight: weight parameter of the current layer.\n",
    "    :param centers: KMeans centroids in the quantization codebook of the current weight layer.\n",
    "    :return: \n",
    "            'encodings': Encoding map mapping each weight parameter to its Huffman coding.\n",
    "            'frequency': Frequency map mapping each weight parameter to the total number of its appearance.\n",
    "\n",
    "    Generate Huffman Coding and Frequency Map according to incoming weights and centers (KMeans centriods).\n",
    "    \"\"\"\n",
    "    weight = weight.flatten()\n",
    "    weight = weight[weight!=0]\n",
    "    frequency = {}\n",
    "    \n",
    "    for w in weight:\n",
    "        if w not in frequency:\n",
    "            frequency[w] = 0\n",
    "        frequency[w] +=1\n",
    "    \n",
    "    encodings = {}\n",
    "    \n",
    "    nb_unique_w = len(frequency)\n",
    "    freq_val = [(v,[k]) for k,v in frequency.items()]\n",
    "    heapq.heapify(freq_val)\n",
    "    \n",
    "    while len(freq_val) > 1:\n",
    "        tempa = heapq.heappop(freq_val)\n",
    "        tempb = heapq.heappop(freq_val)\n",
    "        \n",
    "        for element in tempa[1]:\n",
    "            if element not in encodings:\n",
    "                encodings[element] = '0'\n",
    "            else:\n",
    "                encodings[element] = '0' + encodings[element]\n",
    "        for element in tempb[1]:\n",
    "            if element not in encodings:\n",
    "                encodings[element] = '1'\n",
    "            else:\n",
    "                encodings[element] = '1' + encodings[element]\n",
    "        \n",
    "        temp = (tempa[0]+tempb[0],tempa[1]+tempb[1])\n",
    "        heapq.heappush(freq_val,temp)  \n",
    "    \n",
    "    return encodings, frequency"
   ]
  },
  {
   "cell_type": "code",
   "execution_count": null,
   "metadata": {},
   "outputs": [],
   "source": [
    "# make sure change the value to run the next chunk of code\n",
    "value = 80"
   ]
  },
  {
   "cell_type": "code",
   "execution_count": null,
   "metadata": {},
   "outputs": [],
   "source": [
    "## input images 32 x 32\n",
    "inputs = keras.Input(img_dim)\n",
    "## call DenseNet-BC-100-12 with data augmentation\n",
    "outputs = DenseNet(inputs,init_nb_filters,growth_rate,nb_layers,theta,dropout_rate,weight_decay)\n",
    "## assign the actual model\n",
    "model = keras.Model(inputs,outputs)\n",
    "\n",
    "model.load_weights('./densenet_100_aug_40.h5')\n",
    "nb_epoch = 40\n",
    "end_step = np.ceil(1.0 * 45000 / batch_size).astype(np.int32) * nb_epoch\n",
    "pruning_schedule = tfmot.sparsity.keras.PolynomialDecay(\n",
    "                  initial_sparsity=0.0, final_sparsity= value/100,\n",
    "                  begin_step=2000, end_step=end_step,frequency=100)\n",
    "\n",
    "model_pruned = tfmot.sparsity.keras.prune_low_magnitude(model, pruning_schedule=pruning_schedule)\n",
    "\n",
    "optimizer = keras.optimizers.SGD(lr=.001, momentum=0.9, nesterov=True)\n",
    "model_pruned.compile(\n",
    "loss=tf.keras.losses.categorical_crossentropy,\n",
    "optimizer=optimizer,\n",
    "metrics=['accuracy'])\n",
    "   \n",
    "model_pruned.load_weights('./iter_pruned_{}.h5'.format(value))"
   ]
  },
  {
   "cell_type": "code",
   "execution_count": null,
   "metadata": {},
   "outputs": [],
   "source": [
    "# illustration of huffman coding for the first convolutional layer\n",
    "final_model = sparsity.strip_pruning(model_pruned)\n",
    "quantized_model,centers = quantization(final_model,bits = 6)\n",
    "weight = quantized_model.layers[3].get_weights()[0]\n",
    "encodings,frequency = huffman_coding_per_layer(weight, centers[0])"
   ]
  }
 ],
 "metadata": {
  "accelerator": "GPU",
  "colab": {
   "collapsed_sections": [],
   "name": "BME Project 3.ipynb",
   "provenance": [],
   "toc_visible": true
  },
  "kernelspec": {
   "display_name": "Python 3",
   "language": "python",
   "name": "python3"
  },
  "language_info": {
   "codemirror_mode": {
    "name": "ipython",
    "version": 3
   },
   "file_extension": ".py",
   "mimetype": "text/x-python",
   "name": "python",
   "nbconvert_exporter": "python",
   "pygments_lexer": "ipython3",
   "version": "3.5.3"
  }
 },
 "nbformat": 4,
 "nbformat_minor": 4
}
